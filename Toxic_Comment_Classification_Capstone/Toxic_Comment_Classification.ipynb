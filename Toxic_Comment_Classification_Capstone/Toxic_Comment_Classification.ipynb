{
 "cells": [
  {
   "cell_type": "markdown",
   "metadata": {},
   "source": [
    "# Project Overview"
   ]
  },
  {
   "cell_type": "markdown",
   "metadata": {},
   "source": [
    "Discussing things you care about can be difficult. The threat of abuse and harassment online means that many people stop expressing themselves and give up on seeking different opinions. Platforms struggle to effectively facilitate conversations, leading many communities to limit or completely shut down user comments.\n",
    "\n",
    "The Conversation AI team, a research initiative founded by Jigsaw and Google (both a part of Alphabet) are working on tools to help improve online conversation. One area of focus is the study of negative online behaviors, like toxic comments (i.e. comments that are rude, disrespectful or otherwise likely to make someone leave a discussion). So far they’ve built a range of publicly available models served through the [Perspective API](https://perspectiveapi.com/#/), including toxicity. But the current models still make errors, and they don’t allow users to select which types of toxicity they’re interested in finding (e.g. some platforms may be fine with profanity, but not with other types of toxic content).\n",
    "\n",
    "In this problem statement I am trying to build a multi-headed model that’s capable of detecting different types of of toxicity like threats, obscenity, insults, and identity-based hate better than Perspective’s [current](https://github.com/conversationai/unintended-ml-bias-analysis)  models.\n",
    "\n",
    "The dataset here is from wiki corpus dataset which was rated by human raters for toxicity. The corpus contains 63M comments from discussions relating to user pages and articles dating from 2004-2015.\n",
    "\n",
    "Different platforms/sites can have different standards for their toxic screening process. Hence the comments are tagged in the following five categories\n",
    "\n",
    "* toxic\n",
    "* severe_toxic\n",
    "* obscene\n",
    "* threat\n",
    "* insult\n",
    "* identity_hate\n",
    "\n",
    "[This paper](https://arxiv.org/pdf/1610.08914.pdf) contains details about data creation."
   ]
  },
  {
   "cell_type": "markdown",
   "metadata": {},
   "source": [
    "# Problem Statement"
   ]
  },
  {
   "cell_type": "markdown",
   "metadata": {},
   "source": [
    "Create a model better than [existing model](https://github.com/conversationai/unintended-ml-bias-analysis) to identify correctly weather a given comment is out of six categories defined above.\n",
    "\n",
    "\n",
    "As this problem statement is taken from [kaggle](kaggle.com). [Source paper](https://arxiv.org/pdf/1610.08914.pdf) discuss the methodoly for model buidling. This paper achieved around 97 AUC. This paper is taken as baseline. \n",
    "\n",
    "In this [paper](https://nlp.stanford.edu/pubs/sidaw12_simple_sentiment.pdf) auther has discussed NB-SVM based approach to classify text. First this approach is tried.\n",
    "Later more sophisticated approaches using deep learning is tried and that really helped in improving the model accuracy.\n",
    "\n"
   ]
  },
  {
   "cell_type": "markdown",
   "metadata": {},
   "source": [
    "# Metrics"
   ]
  },
  {
   "cell_type": "markdown",
   "metadata": {},
   "source": [
    "*Area Under Curve (AUC)* of ROC curve is choosen as criteria to evaluate model performance.\n",
    "Since there are six classes, accuracy is evaluated on the mean column-wise ROC AUC. In other words, the score is the average of the individual AUCs of each predicted column.\n",
    "\n",
    "$${AUC = \\frac{S_p - n_p(n_n +1)/2}{n_p n_n}}$$\n",
    "\n",
    "where, Sp is the sum of the all positive examples ranked, while np and nn denote the number of\n",
    "positive and negative examples respectively. \n",
    "\n",
    "As stated in [paper] (https://pdfs.semanticscholar.org/6174/3124c2a4b4e550731ac39508c7d18e520979.pdf) \"The AUC was proven theoretically and empirically better than the accuracy metric for evaluating the classifier performance and discriminating\n",
    "an optimal solution during the classification training.\" There auc is taken as accuracy metric.\n",
    "\n",
    "\n",
    "\n"
   ]
  },
  {
   "cell_type": "markdown",
   "metadata": {},
   "source": [
    "# Data Exploration"
   ]
  },
  {
   "cell_type": "code",
   "execution_count": 1,
   "metadata": {},
   "outputs": [
    {
     "name": "stderr",
     "output_type": "stream",
     "text": [
      "Using TensorFlow backend.\n"
     ]
    }
   ],
   "source": [
    "import pandas as pd \n",
    "import numpy as np\n",
    "\n",
    "import matplotlib.pyplot as plt\n",
    "import seaborn as sns\n",
    "\n",
    "import re,string\n",
    "from scipy.sparse import hstack\n",
    "\n",
    "from utils import *\n",
    "\n",
    "%matplotlib inline"
   ]
  },
  {
   "cell_type": "markdown",
   "metadata": {},
   "source": [
    "Load the train and test data."
   ]
  },
  {
   "cell_type": "code",
   "execution_count": 2,
   "metadata": {
    "collapsed": true
   },
   "outputs": [],
   "source": [
    "train = pd.read_csv('train.csv')\n",
    "test = pd.read_csv('test.csv')"
   ]
  },
  {
   "cell_type": "code",
   "execution_count": 3,
   "metadata": {},
   "outputs": [
    {
     "data": {
      "text/html": [
       "<div>\n",
       "<style>\n",
       "    .dataframe thead tr:only-child th {\n",
       "        text-align: right;\n",
       "    }\n",
       "\n",
       "    .dataframe thead th {\n",
       "        text-align: left;\n",
       "    }\n",
       "\n",
       "    .dataframe tbody tr th {\n",
       "        vertical-align: top;\n",
       "    }\n",
       "</style>\n",
       "<table border=\"1\" class=\"dataframe\">\n",
       "  <thead>\n",
       "    <tr style=\"text-align: right;\">\n",
       "      <th></th>\n",
       "      <th>id</th>\n",
       "      <th>comment_text</th>\n",
       "      <th>toxic</th>\n",
       "      <th>severe_toxic</th>\n",
       "      <th>obscene</th>\n",
       "      <th>threat</th>\n",
       "      <th>insult</th>\n",
       "      <th>identity_hate</th>\n",
       "    </tr>\n",
       "  </thead>\n",
       "  <tbody>\n",
       "    <tr>\n",
       "      <th>0</th>\n",
       "      <td>0000997932d777bf</td>\n",
       "      <td>Explanation\\nWhy the edits made under my usern...</td>\n",
       "      <td>0</td>\n",
       "      <td>0</td>\n",
       "      <td>0</td>\n",
       "      <td>0</td>\n",
       "      <td>0</td>\n",
       "      <td>0</td>\n",
       "    </tr>\n",
       "    <tr>\n",
       "      <th>1</th>\n",
       "      <td>000103f0d9cfb60f</td>\n",
       "      <td>D'aww! He matches this background colour I'm s...</td>\n",
       "      <td>0</td>\n",
       "      <td>0</td>\n",
       "      <td>0</td>\n",
       "      <td>0</td>\n",
       "      <td>0</td>\n",
       "      <td>0</td>\n",
       "    </tr>\n",
       "    <tr>\n",
       "      <th>2</th>\n",
       "      <td>000113f07ec002fd</td>\n",
       "      <td>Hey man, I'm really not trying to edit war. It...</td>\n",
       "      <td>0</td>\n",
       "      <td>0</td>\n",
       "      <td>0</td>\n",
       "      <td>0</td>\n",
       "      <td>0</td>\n",
       "      <td>0</td>\n",
       "    </tr>\n",
       "    <tr>\n",
       "      <th>3</th>\n",
       "      <td>0001b41b1c6bb37e</td>\n",
       "      <td>\"\\nMore\\nI can't make any real suggestions on ...</td>\n",
       "      <td>0</td>\n",
       "      <td>0</td>\n",
       "      <td>0</td>\n",
       "      <td>0</td>\n",
       "      <td>0</td>\n",
       "      <td>0</td>\n",
       "    </tr>\n",
       "    <tr>\n",
       "      <th>4</th>\n",
       "      <td>0001d958c54c6e35</td>\n",
       "      <td>You, sir, are my hero. Any chance you remember...</td>\n",
       "      <td>0</td>\n",
       "      <td>0</td>\n",
       "      <td>0</td>\n",
       "      <td>0</td>\n",
       "      <td>0</td>\n",
       "      <td>0</td>\n",
       "    </tr>\n",
       "    <tr>\n",
       "      <th>5</th>\n",
       "      <td>00025465d4725e87</td>\n",
       "      <td>\"\\n\\nCongratulations from me as well, use the ...</td>\n",
       "      <td>0</td>\n",
       "      <td>0</td>\n",
       "      <td>0</td>\n",
       "      <td>0</td>\n",
       "      <td>0</td>\n",
       "      <td>0</td>\n",
       "    </tr>\n",
       "    <tr>\n",
       "      <th>6</th>\n",
       "      <td>0002bcb3da6cb337</td>\n",
       "      <td>COCKSUCKER BEFORE YOU PISS AROUND ON MY WORK</td>\n",
       "      <td>1</td>\n",
       "      <td>1</td>\n",
       "      <td>1</td>\n",
       "      <td>0</td>\n",
       "      <td>1</td>\n",
       "      <td>0</td>\n",
       "    </tr>\n",
       "    <tr>\n",
       "      <th>7</th>\n",
       "      <td>00031b1e95af7921</td>\n",
       "      <td>Your vandalism to the Matt Shirvington article...</td>\n",
       "      <td>0</td>\n",
       "      <td>0</td>\n",
       "      <td>0</td>\n",
       "      <td>0</td>\n",
       "      <td>0</td>\n",
       "      <td>0</td>\n",
       "    </tr>\n",
       "    <tr>\n",
       "      <th>8</th>\n",
       "      <td>00037261f536c51d</td>\n",
       "      <td>Sorry if the word 'nonsense' was offensive to ...</td>\n",
       "      <td>0</td>\n",
       "      <td>0</td>\n",
       "      <td>0</td>\n",
       "      <td>0</td>\n",
       "      <td>0</td>\n",
       "      <td>0</td>\n",
       "    </tr>\n",
       "    <tr>\n",
       "      <th>9</th>\n",
       "      <td>00040093b2687caa</td>\n",
       "      <td>alignment on this subject and which are contra...</td>\n",
       "      <td>0</td>\n",
       "      <td>0</td>\n",
       "      <td>0</td>\n",
       "      <td>0</td>\n",
       "      <td>0</td>\n",
       "      <td>0</td>\n",
       "    </tr>\n",
       "  </tbody>\n",
       "</table>\n",
       "</div>"
      ],
      "text/plain": [
       "                 id                                       comment_text  toxic  \\\n",
       "0  0000997932d777bf  Explanation\\nWhy the edits made under my usern...      0   \n",
       "1  000103f0d9cfb60f  D'aww! He matches this background colour I'm s...      0   \n",
       "2  000113f07ec002fd  Hey man, I'm really not trying to edit war. It...      0   \n",
       "3  0001b41b1c6bb37e  \"\\nMore\\nI can't make any real suggestions on ...      0   \n",
       "4  0001d958c54c6e35  You, sir, are my hero. Any chance you remember...      0   \n",
       "5  00025465d4725e87  \"\\n\\nCongratulations from me as well, use the ...      0   \n",
       "6  0002bcb3da6cb337       COCKSUCKER BEFORE YOU PISS AROUND ON MY WORK      1   \n",
       "7  00031b1e95af7921  Your vandalism to the Matt Shirvington article...      0   \n",
       "8  00037261f536c51d  Sorry if the word 'nonsense' was offensive to ...      0   \n",
       "9  00040093b2687caa  alignment on this subject and which are contra...      0   \n",
       "\n",
       "   severe_toxic  obscene  threat  insult  identity_hate  \n",
       "0             0        0       0       0              0  \n",
       "1             0        0       0       0              0  \n",
       "2             0        0       0       0              0  \n",
       "3             0        0       0       0              0  \n",
       "4             0        0       0       0              0  \n",
       "5             0        0       0       0              0  \n",
       "6             1        1       0       1              0  \n",
       "7             0        0       0       0              0  \n",
       "8             0        0       0       0              0  \n",
       "9             0        0       0       0              0  "
      ]
     },
     "execution_count": 3,
     "metadata": {},
     "output_type": "execute_result"
    }
   ],
   "source": [
    "train.head(10)"
   ]
  },
  {
   "cell_type": "markdown",
   "metadata": {
    "collapsed": true
   },
   "source": [
    "We can see there are six classes and comment_text can be in more than one class."
   ]
  },
  {
   "cell_type": "code",
   "execution_count": 4,
   "metadata": {},
   "outputs": [
    {
     "name": "stdout",
     "output_type": "stream",
     "text": [
      "Number of Comments in Train and Test Data:  159571 153164\n"
     ]
    }
   ],
   "source": [
    "print( \"Number of Comments in Train and Test Data: \", len(train), len(test))"
   ]
  },
  {
   "cell_type": "markdown",
   "metadata": {},
   "source": [
    "Number of observations in train and test are almost same. Lets see the number of clean comment in train data.\n",
    "Number of clean comment in train data where each class will have value 0."
   ]
  },
  {
   "cell_type": "code",
   "execution_count": 5,
   "metadata": {},
   "outputs": [
    {
     "name": "stdout",
     "output_type": "stream",
     "text": [
      "Number of Clean Comments: 143346\n"
     ]
    }
   ],
   "source": [
    "print( \"Number of Clean Comments:\" , sum(train.iloc[:,2:].sum(axis=1)==0))"
   ]
  },
  {
   "cell_type": "markdown",
   "metadata": {},
   "source": [
    "Training data has lot of class imbalance, during trainig time this imbalance is taken care by weighing each class appropriately. Also since auc is choosen as metric criteria, imbalance will taken care automatically."
   ]
  },
  {
   "cell_type": "markdown",
   "metadata": {},
   "source": [
    "# Exploratory Analysis"
   ]
  },
  {
   "cell_type": "code",
   "execution_count": 6,
   "metadata": {},
   "outputs": [
    {
     "data": {
      "image/png": "[encoded data removed]",
      "text/plain": [
       "<matplotlib.figure.Figure at 0x7fb56f965940>"
      ]
     },
     "metadata": {},
     "output_type": "display_data"
    }
   ],
   "source": [
    "x=train.iloc[:,2:].sum()\n",
    "plt.figure(figsize=(16,4))\n",
    "ax= sns.barplot(x.index, x.values, alpha=0.9)\n",
    "\n",
    "plt.title(\"Number of comments per class\")\n",
    "plt.ylabel('Number of Occurrences in each class', fontsize=12)\n",
    "plt.xlabel('Type of comment ', fontsize=12)\n",
    "\n",
    "rects = ax.patches\n",
    "labels = x.values\n",
    "\n",
    "plt.show()"
   ]
  },
  {
   "cell_type": "code",
   "execution_count": 7,
   "metadata": {},
   "outputs": [
    {
     "data": {
      "image/png": "[encoded data removed]",
      "text/plain": [
       "<matplotlib.figure.Figure at 0x7fb57575f9b0>"
      ]
     },
     "metadata": {},
     "output_type": "display_data"
    }
   ],
   "source": [
    "x=train.iloc[:,2:].sum(axis=1).value_counts()\n",
    "\n",
    "plt.figure(figsize=(16,4))\n",
    "ax = sns.barplot(x.index, x.values, alpha=0.8)\n",
    "plt.title(\"Number of tags per comment.\")\n",
    "plt.ylabel('Number of comments', fontsize=12)\n",
    "plt.xlabel('Number of tags', fontsize=12)\n",
    "\n",
    "plt.show()"
   ]
  },
  {
   "cell_type": "markdown",
   "metadata": {},
   "source": [
    "Above graph also shows the imbalance in data. Also there are comments which are associated with all the tags. It is multiclass classifcation where each comment can be in more than one class."
   ]
  },
  {
   "cell_type": "code",
   "execution_count": 8,
   "metadata": {},
   "outputs": [
    {
     "name": "stdout",
     "output_type": "stream",
     "text": [
      "comment length Mean, std, max: 394.0732213246768 590.7202819048923 5000\n"
     ]
    }
   ],
   "source": [
    "comment_lengths = train.comment_text.str.len()\n",
    "print(\"comment length Mean, std, max:\", comment_lengths.mean(), comment_lengths.std(), comment_lengths.max())\n"
   ]
  },
  {
   "cell_type": "code",
   "execution_count": 9,
   "metadata": {},
   "outputs": [
    {
     "data": {
      "text/plain": [
       "<matplotlib.axes._subplots.AxesSubplot at 0x7fb56f965f60>"
      ]
     },
     "execution_count": 9,
     "metadata": {},
     "output_type": "execute_result"
    },
    {
     "data": {
      "image/png": "[encoded data removed]",
      "text/plain": [
       "<matplotlib.figure.Figure at 0x7fb56f965e10>"
      ]
     },
     "metadata": {},
     "output_type": "display_data"
    }
   ],
   "source": [
    "plt.figure(figsize=(16,6))\n",
    "sns.distplot(comment_lengths, kde=False)"
   ]
  },
  {
   "cell_type": "markdown",
   "metadata": {},
   "source": [
    "Length of comments vary alot. We might need to truncate the comment to appropriate length for modelling."
   ]
  },
  {
   "cell_type": "markdown",
   "metadata": {},
   "source": [
    "# Data Preprocessing"
   ]
  },
  {
   "cell_type": "code",
   "execution_count": 10,
   "metadata": {},
   "outputs": [
    {
     "name": "stdout",
     "output_type": "stream",
     "text": [
      "comment_text    0\n",
      "dtype: int64 comment_text    0\n",
      "dtype: int64\n"
     ]
    }
   ],
   "source": [
    "print(train[['comment_text']].isnull().sum(),test[['comment_text']].isnull().sum())"
   ]
  },
  {
   "cell_type": "markdown",
   "metadata": {},
   "source": [
    "Also number of missing comments are null. So we don't need to worry about missing comment.\n",
    "\n"
   ]
  },
  {
   "cell_type": "markdown",
   "metadata": {},
   "source": [
    "Lots of comments are not properly formatted therefore comments need cleaning. First some slangs are properly mapped using below dictionary."
   ]
  },
  {
   "cell_type": "code",
   "execution_count": 11,
   "metadata": {
    "collapsed": true
   },
   "outputs": [],
   "source": [
    "repl = {\n",
    "    \"yay!\": \" good \",\n",
    "    \"yay\": \" good \",\n",
    "    \"yaay\": \" good \",\n",
    "    \"yaaay\": \" good \",\n",
    "    \"yaaaay\": \" good \",\n",
    "    \"yaaaaay\": \" good \",\n",
    "    \":/\": \" bad \",\n",
    "    \":&gt;\": \" sad \",\n",
    "    \":')\": \" sad \",\n",
    "    \":-(\": \" frown \",\n",
    "    \":(\": \" frown \",\n",
    "    \":s\": \" frown \",\n",
    "    \":-s\": \" frown \",\n",
    "    \"&lt;3\": \" heart \",\n",
    "    \":d\": \" smile \",\n",
    "    \":p\": \" smile \",\n",
    "    \":dd\": \" smile \",\n",
    "    \"8)\": \" smile \",\n",
    "    \":-)\": \" smile \",\n",
    "    \":)\": \" smile \",\n",
    "    \";)\": \" smile \",\n",
    "    \"(-:\": \" smile \",\n",
    "    \"(:\": \" smile \",\n",
    "    \":/\": \" worry \",\n",
    "    \":&gt;\": \" angry \",\n",
    "    \":')\": \" sad \",\n",
    "    \":-(\": \" sad \",\n",
    "    \":(\": \" sad \",\n",
    "    \":s\": \" sad \",\n",
    "    \":-s\": \" sad \",\n",
    "    r\"\\br\\b\": \"are\",\n",
    "    r\"\\bu\\b\": \"you\",\n",
    "    r\"\\bhaha\\b\": \"ha\",\n",
    "    r\"\\bhahaha\\b\": \"ha\",\n",
    "    r\"\\bdon't\\b\": \"do not\",\n",
    "    r\"\\bdoesn't\\b\": \"does not\",\n",
    "    r\"\\bdidn't\\b\": \"did not\",\n",
    "    r\"\\bhasn't\\b\": \"has not\",\n",
    "    r\"\\bhaven't\\b\": \"have not\",\n",
    "    r\"\\bhadn't\\b\": \"had not\",\n",
    "    r\"\\bwon't\\b\": \"will not\",\n",
    "    r\"\\bwouldn't\\b\": \"would not\",\n",
    "    r\"\\bcan't\\b\": \"can not\",\n",
    "    r\"\\bcannot\\b\": \"can not\",\n",
    "    r\"\\bi'm\\b\": \"i am\",\n",
    "    \"m\": \"am\",\n",
    "    \"r\": \"are\",\n",
    "    \"u\": \"you\",\n",
    "    \"haha\": \"ha\",\n",
    "    \"hahaha\": \"ha\",\n",
    "    \"don't\": \"do not\",\n",
    "    \"doesn't\": \"does not\",\n",
    "    \"didn't\": \"did not\",\n",
    "    \"hasn't\": \"has not\",\n",
    "    \"haven't\": \"have not\",\n",
    "    \"hadn't\": \"had not\",\n",
    "    \"won't\": \"will not\",\n",
    "    \"wouldn't\": \"would not\",\n",
    "    \"can't\": \"can not\",\n",
    "    \"cannot\": \"can not\",\n",
    "    \"i'm\": \"i am\",\n",
    "    \"m\": \"am\",\n",
    "    \"i'll\" : \"i will\",\n",
    "    \"its\" : \"it is\",\n",
    "    \"it's\" : \"it is\",\n",
    "    \"'s\" : \" is\",\n",
    "    \"that's\" : \"that is\",\n",
    "    \"weren't\" : \"were not\",\n",
    "}"
   ]
  },
  {
   "cell_type": "code",
   "execution_count": 12,
   "metadata": {
    "collapsed": true
   },
   "outputs": [],
   "source": [
    "keys = [i for i in repl.keys()]\n",
    "\n",
    "new_train_data = []\n",
    "new_test_data = []\n",
    "ltr = train[\"comment_text\"].tolist()\n",
    "lte = test[\"comment_text\"].tolist()\n",
    "    \n",
    "for i in ltr:\n",
    "    arr = str(i).split()\n",
    "    xx = \"\"\n",
    "    for j in arr:\n",
    "        j = str(j).lower()\n",
    "        if j[:4] == 'http' or j[:3] == 'www':\n",
    "            continue\n",
    "        if j in keys:\n",
    "            j = repl[j]\n",
    "        xx += j + \" \"\n",
    "    new_train_data.append(xx)\n",
    "    \n",
    "for i in lte:\n",
    "    arr = str(i).split()\n",
    "    xx = \"\"\n",
    "    for j in arr:\n",
    "        j = str(j).lower()\n",
    "        if j[:4] == 'http' or j[:3] == 'www':\n",
    "            continue\n",
    "        if j in keys:\n",
    "            j = repl[j]\n",
    "        xx += j + \" \"\n",
    "    new_test_data.append(xx)\n",
    "    \n",
    "    \n",
    "train[\"new_comment_text\"] = new_train_data\n",
    "test[\"new_comment_text\"] = new_test_data"
   ]
  },
  {
   "cell_type": "code",
   "execution_count": 13,
   "metadata": {
    "collapsed": true
   },
   "outputs": [],
   "source": [
    "trate = train[\"new_comment_text\"].tolist()\n",
    "tete = test[\"new_comment_text\"].tolist()\n",
    "\n",
    "for i, c in enumerate(trate):\n",
    "    trate[i] = re.sub('[^a-zA-Z ?!]+', '', str(trate[i]).lower())\n",
    "for i, c in enumerate(tete):\n",
    "    tete[i] = re.sub('[^a-zA-Z ?!]+', '', tete[i])\n",
    "    \n",
    "train[\"comment_text\"] = trate\n",
    "test[\"comment_text\"] = tete\n",
    "    \n",
    "del trate, tete\n",
    "\n",
    "train.drop([\"new_comment_text\"], axis=1, inplace=True)\n",
    "test.drop([\"new_comment_text\"], axis=1, inplace=True)"
   ]
  },
  {
   "cell_type": "markdown",
   "metadata": {},
   "source": [
    "# Word Vectorization/ Feature Creation"
   ]
  },
  {
   "cell_type": "markdown",
   "metadata": {},
   "source": [
    "Features are created for applying NB-SVM as metioned in [paper](https://nlp.stanford.edu/pubs/sidaw12_simple_sentiment.pdf). I have create ngram feature that is unigram and bigram. Also used charater tokenizaiton features."
   ]
  },
  {
   "cell_type": "code",
   "execution_count": 14,
   "metadata": {
    "collapsed": true
   },
   "outputs": [],
   "source": [
    "train_text = train['comment_text']\n",
    "test_text = test['comment_text']\n",
    "all_text = pd.concat([train_text, test_text])"
   ]
  },
  {
   "cell_type": "markdown",
   "metadata": {},
   "source": [
    "Word and character tokens are generated using both test and train data to have good performance of model. \n",
    "\n",
    "From sklearn library [vectorizer](http://scikit-learn.org/stable/modules/generated/sklearn.feature_extraction.text.TfidfVectorizer.html) is used with following parameters:\n",
    "\n",
    " * Unigram and Bigram Model\n",
    " * Both word and char tokens are created.\n",
    " * Using idf reweighing to avoid biasing toward most frequent word like the.\n",
    " * Smooth_idf is used to prevent division by zero.\n",
    " * Using sublinear scaling.\n",
    " * Number of features created are 10000.\n"
   ]
  },
  {
   "cell_type": "code",
   "execution_count": 15,
   "metadata": {
    "collapsed": true
   },
   "outputs": [],
   "source": [
    "from sklearn.feature_extraction.text import TfidfVectorizer\n",
    "\n",
    "# To remove punctuations.\n",
    "re_tok = re.compile(f'([{string.punctuation}“”¨«»®´·º½¾¿¡§£₤‘’])')\n",
    "def tokenize(s): \n",
    "    return re_tok.sub(r' \\1 ', s).split()\n",
    "\n",
    "\n",
    "word_vectorizer = TfidfVectorizer(ngram_range=(1,2), tokenizer=tokenize,analyzer='word',\n",
    "                                  strip_accents='unicode', use_idf=1, smooth_idf=1, sublinear_tf=1,max_features=10000)\n",
    "\n",
    "word_vectorizer.fit(all_text)\n",
    "train_word_features = word_vectorizer.transform(train_text)\n",
    "test_word_features = word_vectorizer.transform(test_text)"
   ]
  },
  {
   "cell_type": "markdown",
   "metadata": {},
   "source": [
    "Character tokens are also generated. With same parameter as word but number features equal 50000."
   ]
  },
  {
   "cell_type": "code",
   "execution_count": 16,
   "metadata": {
    "collapsed": true
   },
   "outputs": [],
   "source": [
    "char_vectorizer = TfidfVectorizer(ngram_range=(2,6), analyzer='char',  \n",
    "                                  strip_accents='unicode',use_idf=1, smooth_idf=1,sublinear_tf=1,\n",
    "                                  stop_words='english', max_features=50000)\n",
    "char_vectorizer.fit(all_text)\n",
    "train_char_features = char_vectorizer.transform(train_text)\n",
    "test_char_features = char_vectorizer.transform(test_text)"
   ]
  },
  {
   "cell_type": "markdown",
   "metadata": {},
   "source": [
    "Combine word tokens with char tokens"
   ]
  },
  {
   "cell_type": "code",
   "execution_count": 17,
   "metadata": {
    "collapsed": true
   },
   "outputs": [],
   "source": [
    "train_features = hstack([train_char_features, train_word_features]).tocsr()\n",
    "test_features = hstack([test_char_features, test_word_features]).tocsr()"
   ]
  },
  {
   "cell_type": "markdown",
   "metadata": {},
   "source": [
    "Divide the data into train and validation set [using](http://scikit-learn.org/stable/modules/generated/sklearn.model_selection.train_test_split.html) to check the accuracy of model."
   ]
  },
  {
   "cell_type": "code",
   "execution_count": 18,
   "metadata": {
    "collapsed": true
   },
   "outputs": [],
   "source": [
    "from sklearn.model_selection import train_test_split\n",
    "\n",
    "class_names = ['toxic', 'severe_toxic', 'obscene', 'threat', 'insult', 'identity_hate']\n",
    "X_train, X_val, y_train, y_val = train_test_split(train_features, train[class_names], test_size=0.2, random_state=1)\n"
   ]
  },
  {
   "cell_type": "markdown",
   "metadata": {},
   "source": [
    "# Modelling"
   ]
  },
  {
   "cell_type": "markdown",
   "metadata": {},
   "source": [
    "## 1. NB-SVM Model"
   ]
  },
  {
   "cell_type": "code",
   "execution_count": 19,
   "metadata": {},
   "outputs": [
    {
     "name": "stdout",
     "output_type": "stream",
     "text": [
      "\n",
      " class toxic AUC: 0.978385\n",
      "\n",
      " class severe_toxic AUC: 0.983605\n",
      "\n",
      " class obscene AUC: 0.989263\n",
      "\n",
      " class threat AUC: 0.978733\n",
      "\n",
      " class insult AUC: 0.980809\n",
      "\n",
      " class identity_hate AUC: 0.971795\n",
      "\n",
      " Average AUC:\t0.980432\n"
     ]
    }
   ],
   "source": [
    "from sklearn.metrics import roc_auc_score\n",
    "\n",
    "preds_val = np.zeros((X_val.shape[0], len(class_names)))\n",
    "preds_test = np.zeros((len(test),len(class_names)))\n",
    "\n",
    "auc = np.zeros((len(class_names)))\n",
    "\n",
    "# C is hyperparameter we tuned using cross validation and chose 4.\n",
    "\n",
    "for i, j in enumerate(class_names):\n",
    "    model = NbSvmClassifier(C=4, dual=True, n_jobs=1).fit(X_train, y_train[j])\n",
    "    preds_val[:,i] = model.predict_proba(X_val)[:,1]  \n",
    "    auc[i] = roc_auc_score(y_val[j], preds_val[:,i])\n",
    "    print('\\n class %s AUC: %.6f' % ( j, auc[i]))\n",
    "    \n",
    "    preds_test[:,i] = model.predict_proba(test_features)[:,1] # to test on kaggle.\n",
    "    \n",
    "print('\\n Average AUC:\\t%.6f' % (np.mean(auc)))"
   ]
  },
  {
   "cell_type": "markdown",
   "metadata": {},
   "source": [
    "Accuracy on validation set is quiet impressive but final accuracy will be based on test data. Accuracy for test data is directly tested on kaggle because ground truth was not provided. It turned out to be **0.9769**. Which is not much improvement over base model. Therefore pure logistic method is applied with better tuning of parameters. \n",
    "\n",
    "Also as we have seen there is class imbalance in data. During logistic regression model I have taken care of that using balanced class.\n"
   ]
  },
  {
   "cell_type": "markdown",
   "metadata": {
    "collapsed": true
   },
   "source": [
    "## 2. Logistic Regression"
   ]
  },
  {
   "cell_type": "code",
   "execution_count": 20,
   "metadata": {},
   "outputs": [
    {
     "name": "stdout",
     "output_type": "stream",
     "text": [
      "\n",
      " class toxic AUC: 0.977023\n",
      "\n",
      " class severe_toxic AUC: 0.987943\n",
      "\n",
      " class obscene AUC: 0.988342\n",
      "\n",
      " class threat AUC: 0.987617\n",
      "\n",
      " class insult AUC: 0.981774\n",
      "\n",
      " class identity_hate AUC: 0.980361\n",
      "\n",
      " Average AUC:\t0.983843\n"
     ]
    }
   ],
   "source": [
    "## Parameter tuned using cross validation with five folds for all sexi classes.\n",
    "\n",
    "all_parameters = {'C'             : [1.048113, 0.1930, 0.596362, 0.25595, 0.449843, 0.25595],\n",
    "                  'tol'           : [0.1, 0.1, 0.046416, 0.0215443, 0.1, 0.01]}\n",
    "\n",
    "preds_val_log = np.zeros((X_val.shape[0], len(class_names)))\n",
    "preds_test_log = np.zeros((len(test),len(class_names)))\n",
    "auc = np.zeros((len(class_names)))\n",
    "\n",
    "for i, j in enumerate(class_names):\n",
    "\n",
    "    classifier = LogisticRegression(C=all_parameters['C'][i],\n",
    "    max_iter=200, tol=all_parameters['tol'][i],\n",
    "    solver='newton-cg',\n",
    "    fit_intercept= True,\n",
    "    penalty= \"l2\",\n",
    "    dual=False,\n",
    "    class_weight='balanced',\n",
    "    verbose=0)\n",
    "\n",
    "    classifier.fit(X_train, y_train[j])\n",
    "    preds_val_log[:,i] = classifier.predict_proba(X_val)[:,1]  \n",
    "    auc[i] = roc_auc_score(y_val[j], preds_val_log[:,i])\n",
    "    print('\\n class %s AUC: %.6f' % ( j, auc[i]))\n",
    "    \n",
    "    preds_test_log[:,i] = classifier.predict_proba(test_features)[:,1] # to test on kaggle.\n",
    "\n",
    "print('\\n Average AUC:\\t%.6f' % (np.mean(auc)))\n",
    "\n"
   ]
  },
  {
   "cell_type": "markdown",
   "metadata": {},
   "source": [
    "Accuracy for test data is directly tested on kaggle because ground truth was not provided. It turned out to be **0.9802**. It is good improvement. \n",
    "Reason for improvements:\n",
    "* Better tuning of hyper parameters. Using train and val set.\n",
    "* Using balanced class while training. That will multiply each class with inverse of frequency.\n",
    "\n",
    "To further improve the accuracy deep learning model is tried and that model gave better accuracy than above two model."
   ]
  },
  {
   "cell_type": "markdown",
   "metadata": {},
   "source": [
    "## 3. Deep Learning "
   ]
  },
  {
   "cell_type": "markdown",
   "metadata": {},
   "source": [
    "NLP using deeplearning has mostly following steps as discussed in [this blog](https://explosion.ai/blog/deep-learning-formula-nlp) very nicely:\n",
    "* Embedding\n",
    "* Encode\n",
    "* Attend\n",
    "* Predict\n",
    "\n",
    "Keras is used for training the model."
   ]
  },
  {
   "cell_type": "code",
   "execution_count": 14,
   "metadata": {
    "collapsed": true
   },
   "outputs": [],
   "source": [
    "from keras.layers import Dense,Input,LSTM,Bidirectional,Activation,Conv1D,GRU\n",
    "from keras.callbacks import Callback\n",
    "from keras.layers import Dropout,Embedding,GlobalMaxPooling1D, MaxPooling1D, Add, Flatten\n",
    "from keras.preprocessing import text, sequence\n",
    "from keras.layers import GlobalAveragePooling1D, GlobalMaxPooling1D, concatenate, SpatialDropout1D,AveragePooling1D\n",
    "from keras import initializers, regularizers, constraints, optimizers, layers, callbacks\n",
    "from keras.callbacks import EarlyStopping,ModelCheckpoint\n",
    "from keras.models import Model\n",
    "from keras.optimizers import Adam\n",
    "from keras.layers.normalization import BatchNormalization"
   ]
  },
  {
   "cell_type": "markdown",
   "metadata": {},
   "source": [
    "### Embedding:\n",
    "For embedding glove weights are used which are available online [here](https://nlp.stanford.edu/projects/glove/)."
   ]
  },
  {
   "cell_type": "code",
   "execution_count": 15,
   "metadata": {
    "collapsed": true
   },
   "outputs": [],
   "source": [
    "# glove embedding weights are used.\n",
    "EMBEDDING_FILE = 'glove.840B.300d.txt'"
   ]
  },
  {
   "cell_type": "code",
   "execution_count": 16,
   "metadata": {
    "collapsed": true
   },
   "outputs": [],
   "source": [
    "max_features=100000 # Maximum number of features chosen.\n",
    "maxlen=150 # As we have seen lenght of comments have lots of variation, I have chosen 150 as maximum length.\n",
    "embed_size=300"
   ]
  },
  {
   "cell_type": "code",
   "execution_count": 17,
   "metadata": {
    "collapsed": true
   },
   "outputs": [],
   "source": [
    "X_train = train[\"comment_text\"].str.lower()\n",
    "y_train = train[[\"toxic\", \"severe_toxic\", \"obscene\", \"threat\", \"insult\", \"identity_hate\"]].values\n",
    "X_test = test[\"comment_text\"].str.lower()"
   ]
  },
  {
   "cell_type": "code",
   "execution_count": 18,
   "metadata": {
    "collapsed": true
   },
   "outputs": [],
   "source": [
    "token=text.Tokenizer(num_words=max_features,lower=True) # Tokenizer feature of keras.\n",
    "\n",
    "token.fit_on_texts(list(X_train)+list(X_test)) # Again token are generated using test and train data set both.\n",
    "\n",
    "X_train=token.texts_to_sequences(X_train) # This will convert comments into sequence of words(tokens)\n",
    "X_test=token.texts_to_sequences(X_test)\n",
    "\n",
    "x_train=sequence.pad_sequences(X_train,maxlen=maxlen) # Padding zero for small comments and trimming bigger comment to size 150\n",
    "x_test=sequence.pad_sequences(X_test,maxlen=maxlen)"
   ]
  },
  {
   "cell_type": "code",
   "execution_count": 19,
   "metadata": {
    "collapsed": true
   },
   "outputs": [],
   "source": [
    "embeddings_index = {}\n",
    "with open(EMBEDDING_FILE,encoding='utf8') as f:\n",
    "    for line in f:\n",
    "        values = line.rstrip().rsplit(' ')\n",
    "        word = values[0]\n",
    "        coefs = np.asarray(values[1:], dtype='float32')\n",
    "        embeddings_index[word] = coefs"
   ]
  },
  {
   "cell_type": "code",
   "execution_count": 20,
   "metadata": {
    "collapsed": true
   },
   "outputs": [],
   "source": [
    "#preparing  embedding matrix\n",
    "\n",
    "word_index = token.word_index\n",
    "num_words = min(max_features, len(word_index) + 1)\n",
    "\n",
    "embedding_matrix = np.zeros((num_words, embed_size))\n",
    "\n",
    "for word, i in word_index.items():\n",
    "    if i >= max_features:\n",
    "        continue\n",
    "    embedding_vector = embeddings_index.get(word)\n",
    "    if embedding_vector is not None:\n",
    "        # words not found in embedding index will be all-zeros.\n",
    "        embedding_matrix[i] = embedding_vector"
   ]
  },
  {
   "cell_type": "markdown",
   "metadata": {},
   "source": [
    "### Encoding + Attention\n",
    "Lots of hyperparameters are tried. Finally following architecture is used on training."
   ]
  },
  {
   "cell_type": "code",
   "execution_count": 21,
   "metadata": {
    "collapsed": true
   },
   "outputs": [],
   "source": [
    "from utils import *\n",
    "\n",
    "input_comment = Input(shape=(maxlen,), dtype='int32')\n",
    "x=  Embedding(max_features, embed_size, weights=[embedding_matrix],input_length=maxlen,trainable=False)(input_comment)\n",
    "\n",
    "x = SpatialDropout1D(0.2)(x)\n",
    "x = Bidirectional(GRU(128, return_sequences=True,dropout=0.15,recurrent_dropout=0.15))(x)\n",
    "\n",
    "x = Conv1D(64, kernel_size = 3, padding = \"same\", kernel_initializer = \"glorot_uniform\")(x)\n",
    "\n",
    "avg_pool = AveragePooling1D(strides=1,padding='same')(x)\n",
    "max_pool = MaxPooling1D(strides=1,padding='same')(x)\n",
    "x = concatenate([avg_pool, max_pool]) \n",
    "\n",
    "merged = Attention(maxlen)(x)\n",
    "merged = BatchNormalization()(merged)\n",
    "\n",
    "preds = Dense(6, activation='sigmoid')(merged)\n"
   ]
  },
  {
   "cell_type": "code",
   "execution_count": 22,
   "metadata": {},
   "outputs": [
    {
     "name": "stdout",
     "output_type": "stream",
     "text": [
      "____________________________________________________________________________________________________\n",
      "Layer (type)                     Output Shape          Param #     Connected to                     \n",
      "====================================================================================================\n",
      "input_1 (InputLayer)             (None, 150)           0                                            \n",
      "____________________________________________________________________________________________________\n",
      "embedding_1 (Embedding)          (None, 150, 300)      30000000    input_1[0][0]                    \n",
      "____________________________________________________________________________________________________\n",
      "spatial_dropout1d_1 (SpatialDrop (None, 150, 300)      0           embedding_1[0][0]                \n",
      "____________________________________________________________________________________________________\n",
      "bidirectional_1 (Bidirectional)  (None, 150, 256)      329472      spatial_dropout1d_1[0][0]        \n",
      "____________________________________________________________________________________________________\n",
      "conv1d_1 (Conv1D)                (None, 150, 64)       49216       bidirectional_1[0][0]            \n",
      "____________________________________________________________________________________________________\n",
      "average_pooling1d_1 (AveragePool (None, 150, 64)       0           conv1d_1[0][0]                   \n",
      "____________________________________________________________________________________________________\n",
      "max_pooling1d_1 (MaxPooling1D)   (None, 150, 64)       0           conv1d_1[0][0]                   \n",
      "____________________________________________________________________________________________________\n",
      "concatenate_1 (Concatenate)      (None, 150, 128)      0           average_pooling1d_1[0][0]        \n",
      "                                                                   max_pooling1d_1[0][0]            \n",
      "____________________________________________________________________________________________________\n",
      "attention_1 (Attention)          (None, 128)           278         concatenate_1[0][0]              \n",
      "____________________________________________________________________________________________________\n",
      "batch_normalization_1 (BatchNorm (None, 128)           512         attention_1[0][0]                \n",
      "____________________________________________________________________________________________________\n",
      "dense_1 (Dense)                  (None, 6)             774         batch_normalization_1[0][0]      \n",
      "====================================================================================================\n",
      "Total params: 30,380,252\n",
      "Trainable params: 379,996\n",
      "Non-trainable params: 30,000,256\n",
      "____________________________________________________________________________________________________\n",
      "None\n"
     ]
    }
   ],
   "source": [
    "model = Model(inputs=[input_comment],outputs=preds)\n",
    "model.compile(loss='binary_crossentropy', optimizer=optimizers.Adam(lr=1e-3),  metrics=['accuracy'])\n",
    "print(model.summary())"
   ]
  },
  {
   "cell_type": "code",
   "execution_count": 24,
   "metadata": {},
   "outputs": [
    {
     "name": "stderr",
     "output_type": "stream",
     "text": [
      "/datadrive/anaconda3/lib/python3.6/site-packages/sklearn/model_selection/_split.py:2026: FutureWarning: From version 0.21, test_size will always complement train_size unless both are specified.\n",
      "  FutureWarning)\n"
     ]
    }
   ],
   "source": [
    "from sklearn.model_selection import train_test_split\n",
    "\n",
    "X_tra, X_val, y_tra, y_val = train_test_split(x_train, y_train, train_size=0.8, random_state=1)\n",
    "best_model_path =\"weights-best_model.hdf5\"\n",
    "\n",
    "early_stopping =EarlyStopping(monitor='val_loss', patience=5)\n",
    "model_checkpoint = ModelCheckpoint(best_model_path, save_best_only=True, save_weights_only=True)\n",
    "\n",
    "ra_val = RocAucEvaluation(validation_data=(X_val, y_val), interval = 1)\n",
    "\n",
    "callbacks_list = [ra_val,model_checkpoint, early_stopping]"
   ]
  },
  {
   "cell_type": "markdown",
   "metadata": {},
   "source": [
    "### Predict\n"
   ]
  },
  {
   "cell_type": "code",
   "execution_count": 25,
   "metadata": {},
   "outputs": [
    {
     "name": "stdout",
     "output_type": "stream",
     "text": [
      "Train on 127656 samples, validate on 31915 samples\n",
      "Epoch 1/20\n",
      "127488/127656 [============================>.] - ETA: 0s - loss: 0.1742 - acc: 0.9600\n",
      " ROC-AUC - epoch: 1 - score: 0.975035\n",
      "127656/127656 [==============================] - 274s - loss: 0.1740 - acc: 0.9600 - val_loss: 0.0694 - val_acc: 0.9776\n",
      "Epoch 2/20\n",
      "127488/127656 [============================>.] - ETA: 0s - loss: 0.0499 - acc: 0.9820\n",
      " ROC-AUC - epoch: 2 - score: 0.984541\n",
      "127656/127656 [==============================] - 270s - loss: 0.0499 - acc: 0.9820 - val_loss: 0.0467 - val_acc: 0.9825\n",
      "Epoch 3/20\n",
      "127488/127656 [============================>.] - ETA: 0s - loss: 0.0457 - acc: 0.9828\n",
      " ROC-AUC - epoch: 3 - score: 0.985391\n",
      "127656/127656 [==============================] - 272s - loss: 0.0457 - acc: 0.9828 - val_loss: 0.0436 - val_acc: 0.9835\n",
      "Epoch 4/20\n",
      "127488/127656 [============================>.] - ETA: 0s - loss: 0.0436 - acc: 0.9833\n",
      " ROC-AUC - epoch: 4 - score: 0.986576\n",
      "127656/127656 [==============================] - 272s - loss: 0.0436 - acc: 0.9833 - val_loss: 0.0432 - val_acc: 0.9835\n",
      "Epoch 5/20\n",
      "127488/127656 [============================>.] - ETA: 0s - loss: 0.0421 - acc: 0.9838\n",
      " ROC-AUC - epoch: 5 - score: 0.986877\n",
      "127656/127656 [==============================] - 271s - loss: 0.0421 - acc: 0.9838 - val_loss: 0.0426 - val_acc: 0.9835\n",
      "Epoch 6/20\n",
      "127488/127656 [============================>.] - ETA: 0s - loss: 0.0406 - acc: 0.9844\n",
      " ROC-AUC - epoch: 6 - score: 0.987100\n",
      "127656/127656 [==============================] - 275s - loss: 0.0406 - acc: 0.9844 - val_loss: 0.0435 - val_acc: 0.9832\n",
      "Epoch 7/20\n",
      "127488/127656 [============================>.] - ETA: 0s - loss: 0.0395 - acc: 0.9847\n",
      " ROC-AUC - epoch: 7 - score: 0.986753\n",
      "127656/127656 [==============================] - 269s - loss: 0.0395 - acc: 0.9847 - val_loss: 0.0432 - val_acc: 0.9835\n",
      "Epoch 8/20\n",
      "127488/127656 [============================>.] - ETA: 0s - loss: 0.0383 - acc: 0.9851\n",
      " ROC-AUC - epoch: 8 - score: 0.986984\n",
      "127656/127656 [==============================] - 272s - loss: 0.0383 - acc: 0.9851 - val_loss: 0.0420 - val_acc: 0.9840\n",
      "Epoch 9/20\n",
      "127488/127656 [============================>.] - ETA: 0s - loss: 0.0373 - acc: 0.9855\n",
      " ROC-AUC - epoch: 9 - score: 0.987308\n",
      "127656/127656 [==============================] - 271s - loss: 0.0373 - acc: 0.9855 - val_loss: 0.0434 - val_acc: 0.9834\n",
      "Epoch 10/20\n",
      "127488/127656 [============================>.] - ETA: 0s - loss: 0.0359 - acc: 0.9861\n",
      " ROC-AUC - epoch: 10 - score: 0.987156\n",
      "127656/127656 [==============================] - 271s - loss: 0.0359 - acc: 0.9861 - val_loss: 0.0443 - val_acc: 0.9834\n",
      "Epoch 11/20\n",
      "127488/127656 [============================>.] - ETA: 0s - loss: 0.0351 - acc: 0.9863\n",
      " ROC-AUC - epoch: 11 - score: 0.986501\n",
      "127656/127656 [==============================] - 272s - loss: 0.0351 - acc: 0.9863 - val_loss: 0.0438 - val_acc: 0.9837\n",
      "Epoch 12/20\n",
      "127488/127656 [============================>.] - ETA: 0s - loss: 0.0340 - acc: 0.9866\n",
      " ROC-AUC - epoch: 12 - score: 0.986908\n",
      "127656/127656 [==============================] - 271s - loss: 0.0340 - acc: 0.9866 - val_loss: 0.0454 - val_acc: 0.9830\n",
      "Epoch 13/20\n",
      "127488/127656 [============================>.] - ETA: 0s - loss: 0.0333 - acc: 0.9869\n",
      " ROC-AUC - epoch: 13 - score: 0.986404\n",
      "127656/127656 [==============================] - 272s - loss: 0.0333 - acc: 0.9869 - val_loss: 0.0453 - val_acc: 0.9831\n",
      "Epoch 14/20\n",
      "127488/127656 [============================>.] - ETA: 0s - loss: 0.0322 - acc: 0.9873\n",
      " ROC-AUC - epoch: 14 - score: 0.985675\n",
      "127656/127656 [==============================] - 270s - loss: 0.0322 - acc: 0.9873 - val_loss: 0.0486 - val_acc: 0.9816\n"
     ]
    }
   ],
   "source": [
    "model.fit(X_tra, y_tra, validation_data=(X_val, y_val),  epochs=20, batch_size=256, shuffle=True,callbacks= callbacks_list)\n",
    "model.load_weights(best_model_path)"
   ]
  },
  {
   "cell_type": "code",
   "execution_count": 26,
   "metadata": {},
   "outputs": [
    {
     "name": "stdout",
     "output_type": "stream",
     "text": [
      "153164/153164 [==============================] - 33s    \n"
     ]
    }
   ],
   "source": [
    "X_test = model.predict([x_test], batch_size=1024, verbose=1)"
   ]
  },
  {
   "cell_type": "markdown",
   "metadata": {
    "collapsed": true
   },
   "source": [
    "Deep learning model proved to be better than other two models. Accuracy on kaggle data based on this model was **0.9859**. Which was quite a improvement."
   ]
  },
  {
   "cell_type": "markdown",
   "metadata": {},
   "source": [
    "## Results\n"
   ]
  },
  {
   "cell_type": "markdown",
   "metadata": {},
   "source": [
    "Deep learning model proved to be a great way to approach NLP problem. Advantage of deep lerning model is that it doesn't required much feature engineering. Also it is more generalizable.\n",
    "Order of accuracy on kaggle private data:\n",
    "\n",
    "* NB-SVM  : 0.9769\n",
    "* Logisitc: 0.9802\n",
    "* DeepLearning: 0.9859\n",
    "\n",
    "Each model performance is validated on valdiation set as shown above.\n",
    "Generalisability of model is can be justified by seeing the accuracy of model on unseen data on kaggle.\n",
    "\n"
   ]
  },
  {
   "cell_type": "markdown",
   "metadata": {},
   "source": [
    "** Final model is good improvement over baseline model and can be used for the toxic comments classifications.**"
   ]
  },
  {
   "cell_type": "markdown",
   "metadata": {},
   "source": [
    "## Conclusion /Future Work"
   ]
  },
  {
   "cell_type": "markdown",
   "metadata": {},
   "source": [
    "- It is shown that deep learning can be quite effective in solving NLP task like comment classifications.\n",
    "- Accuracy of model can be further improved with better architecture and more data for training compare to provide in kaggle.\n",
    "- Accuracy can be enhanced further with embsebling of different results."
   ]
  },
  {
   "cell_type": "code",
   "execution_count": null,
   "metadata": {
    "collapsed": true
   },
   "outputs": [],
   "source": []
  },
  {
   "cell_type": "code",
   "execution_count": null,
   "metadata": {
    "collapsed": true
   },
   "outputs": [],
   "source": []
  }
 ],
 "metadata": {
  "kernelspec": {
   "display_name": "Python 3",
   "language": "python",
   "name": "python3"
  },
  "language_info": {
   "codemirror_mode": {
    "name": "ipython",
    "version": 3
   },
   "file_extension": ".py",
   "mimetype": "text/x-python",
   "name": "python",
   "nbconvert_exporter": "python",
   "pygments_lexer": "ipython3",
   "version": "3.6.2"
  }
 },
 "nbformat": 4,
 "nbformat_minor": 2
}
